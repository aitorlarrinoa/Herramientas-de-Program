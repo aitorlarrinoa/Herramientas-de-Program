{
 "cells": [
  {
   "cell_type": "markdown",
   "id": "fd6780c6",
   "metadata": {},
   "source": [
    "![LogoCUNEF](https://www.cunef.edu/wp-content/uploads/2021/06/cunef-logo.svg)\n",
    "\n",
    "\n",
    "#### Instrucciones\n",
    "\n",
    "+ No elimines, crees ni muevas de sitio ninguna celda de código.\n",
    "\n",
    "+ Asegúrate de rellenar todos los lugares donde se indica `YOUR CODE HERE`. Debes eliminar el contenido de la celda, incluyendo el texto `raise NotImplementedError()`.\n",
    "\n",
    "+ Antes de entregar la práctica, asegúrate de que todo funciona correctamente. Para ello, **reinicia el kernel** (en el menú, selecciona Kernel$\\rightarrow$Restart) y después **ejecuta todas las celdas** (en el menú, selecciona Cell$\\rightarrow$Run All)."
   ]
  },
  {
   "cell_type": "markdown",
   "id": "faed42e3",
   "metadata": {},
   "source": [
    "---"
   ]
  },
  {
   "cell_type": "markdown",
   "id": "315b43cc",
   "metadata": {
    "deletable": false,
    "editable": false,
    "nbgrader": {
     "cell_type": "markdown",
     "checksum": "0e8c8d1da12408419b3202b0fa96785e",
     "grade": false,
     "grade_id": "cell-3e113dcc2e26174c",
     "locked": true,
     "schema_version": 3,
     "solution": false,
     "task": false
    }
   },
   "source": [
    "### Herramientas de Programación · Máster Universitario en Data Science · Curso 2021/22\n",
    "\n",
    "# Práctica 1\n",
    "\n",
    "En este cuaderno se plantean varios ejercicios de programación que buscan poner a prueba los conocimientos adquiridos en los cinco primeros temas del curso."
   ]
  },
  {
   "cell_type": "markdown",
   "id": "ecd9b999",
   "metadata": {
    "deletable": false,
    "editable": false,
    "nbgrader": {
     "cell_type": "markdown",
     "checksum": "d11a4179f485baa65de460d4f5a9a4bd",
     "grade": false,
     "grade_id": "cell-93ade1085ccb0c68",
     "locked": true,
     "schema_version": 3,
     "solution": false,
     "task": false
    }
   },
   "source": [
    "## Ejercicio 1 (2 puntos)\n",
    "\n",
    "Decimos que un número $p$ es primo si únicamente tiene dos divisores: el número 1 y él mismo. Así, 17 es un número primo, mientras que 18 no lo es, pues tiene como divisores los números 2, 3, 6 y 9.\n",
    "\n",
    "Para comprobar si un número $p$ es primo, no hace falta comprobar todos los números entre 2 y $p-1$. En realidad, basta con comprobar los números entre 2 y $\\lfloor\\sqrt{p}\\rfloor$.\n",
    "\n",
    "Por convención, se considera que el __número 1 no es primo__.\n",
    "\n",
    "Escribe una función `is_prime` que reciba un parámetro `p` y devuelva un valor booleano: `True` si el número `p` es primo, o `False` en otro caso."
   ]
  },
  {
   "cell_type": "code",
   "execution_count": 1,
   "id": "c72a82b0",
   "metadata": {
    "deletable": false,
    "nbgrader": {
     "cell_type": "code",
     "checksum": "7c2155cca3415cb6842bb82e7f665680",
     "grade": false,
     "grade_id": "ej1-code",
     "locked": false,
     "schema_version": 3,
     "solution": true,
     "task": false
    }
   },
   "outputs": [
    {
     "data": {
      "text/plain": [
       "True"
      ]
     },
     "execution_count": 1,
     "metadata": {},
     "output_type": "execute_result"
    }
   ],
   "source": [
    "def is_prime (p):\n",
    "    assert p > 1, \"El número introducido debe ser mayor que 1\"\n",
    "    valor_final = int(p**(1/2)) \n",
    "    for i in range(2,valor_final + 1):\n",
    "        if p%i == 0:\n",
    "            return False\n",
    "    return True\n",
    "\n",
    "is_prime(5)\n",
    "        "
   ]
  },
  {
   "cell_type": "code",
   "execution_count": 2,
   "id": "2726ef6f",
   "metadata": {
    "deletable": false,
    "editable": false,
    "nbgrader": {
     "cell_type": "code",
     "checksum": "1adf18126c7698a17782c610fc9083c3",
     "grade": true,
     "grade_id": "ej1-test0",
     "locked": true,
     "points": 0.5,
     "schema_version": 3,
     "solution": false,
     "task": false
    }
   },
   "outputs": [],
   "source": [
    "\"\"\"Se comprobará que la función se ha creado y un caso de prueba sencillo.\"\"\"\n",
    "assert 'is_prime' in locals(), \"La función 'is_prime' no existe.\"\n",
    "assert callable(is_prime), \"'is_prime' no es una función.\"\n",
    "assert is_prime.__code__.co_varnames[:is_prime.__code__.co_argcount] == ('p',), \"La función no tiene un parámetro 'p'.\"\n",
    "assert is_prime(2) == True, \"El valor de 'is_prime(2)' es incorrecto.\"\n",
    "assert is_prime(4) == False, \"El valor de 'is_prime(4)' es incorrecto.\""
   ]
  },
  {
   "cell_type": "code",
   "execution_count": 3,
   "id": "75f0b832",
   "metadata": {
    "deletable": false,
    "editable": false,
    "nbgrader": {
     "cell_type": "code",
     "checksum": "bf872cf5dc466980e7b24de6c951a40c",
     "grade": true,
     "grade_id": "ej1-test1",
     "locked": true,
     "points": 0.75,
     "schema_version": 3,
     "solution": false,
     "task": false
    }
   },
   "outputs": [
    {
     "data": {
      "text/plain": [
       "'Se comprobarán algunos casos sencillos de la función.'"
      ]
     },
     "execution_count": 3,
     "metadata": {},
     "output_type": "execute_result"
    }
   ],
   "source": [
    "\"\"\"Se comprobarán algunos casos sencillos de la función.\"\"\""
   ]
  },
  {
   "cell_type": "code",
   "execution_count": 4,
   "id": "da2df2ca",
   "metadata": {
    "deletable": false,
    "editable": false,
    "nbgrader": {
     "cell_type": "code",
     "checksum": "dbae07b19396911ddbfdfecef59d371f",
     "grade": true,
     "grade_id": "ej1-test2",
     "locked": true,
     "points": 0.75,
     "schema_version": 3,
     "solution": false,
     "task": false
    }
   },
   "outputs": [
    {
     "data": {
      "text/plain": [
       "'Se comprobarán algunos casos adicionales de la función.'"
      ]
     },
     "execution_count": 4,
     "metadata": {},
     "output_type": "execute_result"
    }
   ],
   "source": [
    "\"\"\"Se comprobarán algunos casos adicionales de la función.\"\"\""
   ]
  },
  {
   "cell_type": "markdown",
   "id": "eea883c5",
   "metadata": {
    "deletable": false,
    "editable": false,
    "nbgrader": {
     "cell_type": "markdown",
     "checksum": "07e456de8d6df42e46dbfde6ca22e9c0",
     "grade": false,
     "grade_id": "cell-bb26d73af74507c6",
     "locked": true,
     "schema_version": 3,
     "solution": false,
     "task": false
    }
   },
   "source": [
    "## Ejercicio 2 (1 punto)\n",
    "\n",
    "Supongamos ahora que queremos conocer todos los números primos menores que un número $n$. \n",
    "\n",
    "Escribe una función `primes` que reciba un parámetro `n` y que genere todos los números primos estrictamente menores que `n` (es decir, sin incluir el número `n`). La función __debe devolver un generador__.\n",
    "\n",
    "Por ejemplo, `primes(7)` debe devolver un generador con los valores 2, 3 y 5.\n",
    "\n",
    "Debes emplear la función `is_prime` que creaste anteriormente."
   ]
  },
  {
   "cell_type": "code",
   "execution_count": 5,
   "id": "ad2e8c6c",
   "metadata": {
    "deletable": false,
    "nbgrader": {
     "cell_type": "code",
     "checksum": "91610c413158ed7a2199bfee14ac9e22",
     "grade": false,
     "grade_id": "ej2-code",
     "locked": false,
     "schema_version": 3,
     "solution": true,
     "task": false
    }
   },
   "outputs": [
    {
     "data": {
      "text/plain": [
       "[2,\n",
       " 3,\n",
       " 5,\n",
       " 7,\n",
       " 11,\n",
       " 13,\n",
       " 17,\n",
       " 19,\n",
       " 23,\n",
       " 29,\n",
       " 31,\n",
       " 37,\n",
       " 41,\n",
       " 43,\n",
       " 47,\n",
       " 53,\n",
       " 59,\n",
       " 61,\n",
       " 67,\n",
       " 71,\n",
       " 73,\n",
       " 79,\n",
       " 83,\n",
       " 89,\n",
       " 97]"
      ]
     },
     "execution_count": 5,
     "metadata": {},
     "output_type": "execute_result"
    }
   ],
   "source": [
    "def primes (n):\n",
    "    for i in range(2,n):\n",
    "        if is_prime(i):\n",
    "            yield i\n",
    "    \n",
    "list(primes(100))"
   ]
  },
  {
   "cell_type": "code",
   "execution_count": 6,
   "id": "f033b5f7",
   "metadata": {
    "deletable": false,
    "editable": false,
    "nbgrader": {
     "cell_type": "code",
     "checksum": "12ede5bf303ba23f585be832f321b0e5",
     "grade": true,
     "grade_id": "ej2-test0",
     "locked": true,
     "points": 0.5,
     "schema_version": 3,
     "solution": false,
     "task": false
    }
   },
   "outputs": [],
   "source": [
    "\"\"\"Se comprobará que la función se ha creado y un caso de prueba sencillo.\"\"\"\n",
    "import types\n",
    "assert 'primes' in locals(), \"La función 'primes' no existe.\"\n",
    "assert callable(is_prime), \"'primes' no es una función.\"\n",
    "assert primes.__code__.co_varnames[:primes.__code__.co_argcount] == ('n',), \"La función no tiene un parámetro 'n'.\"\n",
    "assert type(primes(3)) == types.GeneratorType, \"La función no devuelve un generador.\"\n",
    "assert list(primes(7)) == [2, 3, 5], \"El valor de 'primes(7)' es incorrecto.\""
   ]
  },
  {
   "cell_type": "code",
   "execution_count": 7,
   "id": "38ddcaf2",
   "metadata": {
    "deletable": false,
    "editable": false,
    "nbgrader": {
     "cell_type": "code",
     "checksum": "a32734bbdda1583b3c0de9425de1c520",
     "grade": true,
     "grade_id": "ej2-test2",
     "locked": true,
     "points": 0.5,
     "schema_version": 3,
     "solution": false,
     "task": false
    }
   },
   "outputs": [
    {
     "data": {
      "text/plain": [
       "'Se comprobarán algunos casos adicionales de la función.'"
      ]
     },
     "execution_count": 7,
     "metadata": {},
     "output_type": "execute_result"
    }
   ],
   "source": [
    "\"\"\"Se comprobarán algunos casos adicionales de la función.\"\"\""
   ]
  },
  {
   "cell_type": "markdown",
   "id": "f9a24272",
   "metadata": {
    "deletable": false,
    "editable": false,
    "nbgrader": {
     "cell_type": "markdown",
     "checksum": "f8d5814780b61eea0cbfec20bb0a2a4d",
     "grade": false,
     "grade_id": "cell-a94ae78ca8713812",
     "locked": true,
     "schema_version": 3,
     "solution": false,
     "task": false
    }
   },
   "source": [
    "## Ejercicio 3 (2 puntos)\n",
    "\n",
    "El Scrabble es un popular juego de mesa que consiste en colocar palabras sobre un tablero con el fin de conseguir puntos. En este ejercicio, vamos a contar los puntos obtenidos tras colocar una palabra.\n",
    "\n",
    "Para ello, disponemos de un diccionario con puntuaciones, que hemos llamado `puntuaciones`. La clave del diccionario son los nombres de las letras en mayúsculas, y el valor asociado es la puntuación de dicha letra.\n",
    "\n",
    "Escribe una función denominada `scrabble` que reciba tres parámetros: `palabra`, `puntuaciones` y `mult`:\n",
    "+ El parámetro `palabra` será una cadena de texto con la palabra colocada en el tablero. Esta podrá estar escrita en mayúsculas o minúsculas indistintamente.\n",
    "+ El parámetro `puntuaciones` será el diccionario antes mencionado.\n",
    "+ El parámetro `mult` indica si hay algún multiplicador de palabra. Estos bonus permiten multiplicar la puntuación obtenida al colocar una palabra. El parámetro será opcional, de tal forma que si no se introduce valor, no se debe multiplicar la puntuación obtenida.\n",
    "\n",
    "Supongamos que se juega la palabra `casa`. En este caso, `scrabble(\"casa\", puntos, 2) = 12`, puesto que `CASA = 3 + 1 + 1 + 1`, que son 6 puntos, y se multiplica por 2 la puntuación obtenida.\n",
    "\n",
    "En el Scrabble no se pueden jugar más de 7 letras. Si la palabra introducida tuviera más de 7 letras, devolveremos una puntuación de 0 puntos."
   ]
  },
  {
   "cell_type": "code",
   "execution_count": 8,
   "id": "6d90c5ef",
   "metadata": {
    "deletable": false,
    "editable": false,
    "nbgrader": {
     "cell_type": "code",
     "checksum": "932296cd95250352663fce880d44b115",
     "grade": false,
     "grade_id": "cell-09527d822a7ca1f0",
     "locked": true,
     "schema_version": 3,
     "solution": false,
     "task": false
    }
   },
   "outputs": [],
   "source": [
    "puntuaciones = puntuaciones = {\n",
    "    'A': 1,\n",
    "    'B': 3,\n",
    "    'C': 3,\n",
    "    'D': 2,\n",
    "    'E': 1,\n",
    "    'F': 4,\n",
    "    'G': 2,\n",
    "    'H': 4,\n",
    "    'I': 1,\n",
    "    'J': 8,\n",
    "    'L': 1,\n",
    "    'M': 3,\n",
    "    'N': 1,\n",
    "    'Ñ': 8,\n",
    "    'O': 1,\n",
    "    'P': 3,\n",
    "    'Q': 5,\n",
    "    'R': 1,\n",
    "    'S': 1,\n",
    "    'T': 1,\n",
    "    'U': 1,\n",
    "    'V': 4,\n",
    "    'X': 8,\n",
    "    'Y': 4,\n",
    "    'Z': 10,\n",
    "}"
   ]
  },
  {
   "cell_type": "code",
   "execution_count": 9,
   "id": "7105a60b",
   "metadata": {
    "deletable": false,
    "nbgrader": {
     "cell_type": "code",
     "checksum": "c8c673341dd9fd4ad4547a7959a52660",
     "grade": false,
     "grade_id": "ej3-code",
     "locked": false,
     "schema_version": 3,
     "solution": true,
     "task": false
    }
   },
   "outputs": [],
   "source": [
    "def scrabble (palabra, puntuaciones, mult = 1):\n",
    "    puntos = 0\n",
    "    if len(palabra) == 0:\n",
    "        return puntos\n",
    "    pal = palabra.upper()\n",
    "    for letra in pal:\n",
    "        if letra in puntuaciones:\n",
    "            puntos += puntuaciones[letra]\n",
    "    return mult*puntos\n"
   ]
  },
  {
   "cell_type": "code",
   "execution_count": 10,
   "id": "2c340d80",
   "metadata": {
    "deletable": false,
    "editable": false,
    "nbgrader": {
     "cell_type": "code",
     "checksum": "e72a2f79eabd18db71cca7ce90516d07",
     "grade": true,
     "grade_id": "ej3-test0",
     "locked": true,
     "points": 0.5,
     "schema_version": 3,
     "solution": false,
     "task": false
    }
   },
   "outputs": [],
   "source": [
    "\"\"\"Se comprobará que la función se ha creado y un caso de prueba sencillo.\"\"\"\n",
    "assert 'scrabble' in locals(), \"La función 'scrabble' no existe.\"\n",
    "assert callable(scrabble), \"'scrabble' no es una función.\"\n",
    "assert scrabble.__code__.co_varnames[:scrabble.__code__.co_argcount] == ('palabra', 'puntuaciones', 'mult'), \"La función no tiene los parámetros indicados.\"\n",
    "assert scrabble('CASA', puntuaciones) == 6, \"La puntuación para 'CASA' es incorrecta.\"\n",
    "assert scrabble('CASA', puntuaciones, 2) == 12, \"La puntuación para 'CASA' (x2) es incorrecta.\""
   ]
  },
  {
   "cell_type": "code",
   "execution_count": 11,
   "id": "750d9c87",
   "metadata": {
    "deletable": false,
    "editable": false,
    "nbgrader": {
     "cell_type": "code",
     "checksum": "60eb010941ec22afc9473e41c8ebec24",
     "grade": true,
     "grade_id": "ej3-test1",
     "locked": true,
     "points": 1.5,
     "schema_version": 3,
     "solution": false,
     "task": false
    }
   },
   "outputs": [
    {
     "data": {
      "text/plain": [
       "'Se comprobarán algunos casos adicionales de la función.'"
      ]
     },
     "execution_count": 11,
     "metadata": {},
     "output_type": "execute_result"
    }
   ],
   "source": [
    "\"\"\"Se comprobarán algunos casos adicionales de la función.\"\"\""
   ]
  },
  {
   "cell_type": "markdown",
   "id": "b74e0c36",
   "metadata": {
    "deletable": false,
    "editable": false,
    "nbgrader": {
     "cell_type": "markdown",
     "checksum": "d560b4719b98e9b6f94b1efc828a63d2",
     "grade": false,
     "grade_id": "cell-b103a17de88101ee",
     "locked": true,
     "schema_version": 3,
     "solution": false,
     "task": false
    }
   },
   "source": [
    "## Ejercicio 4 (1 punto)\n",
    "\n",
    "Importa la librería Pandas y a continuación carga los datos del fichero `nycflights17.xlsx` de acuerdo con las siguientes instrucciones:\n",
    "\n",
    "+ Carga el contenido de la hoja `flights` y almacénalo en la variable `flights`.\n",
    "+ Carga el contenido de la hoja `planes` y almacénalo en la variable `planes`.\n",
    "+ Carga el contenido de la hoja `airlines` y almacénalo en la variable `airlines`."
   ]
  },
  {
   "cell_type": "code",
   "execution_count": 12,
   "id": "b3149ea4",
   "metadata": {
    "deletable": false,
    "nbgrader": {
     "cell_type": "code",
     "checksum": "b4a54b6668d58357bd4705e7d85a95f2",
     "grade": false,
     "grade_id": "ej4-code",
     "locked": false,
     "schema_version": 3,
     "solution": true,
     "task": false
    }
   },
   "outputs": [
    {
     "data": {
      "text/html": [
       "<div>\n",
       "<style scoped>\n",
       "    .dataframe tbody tr th:only-of-type {\n",
       "        vertical-align: middle;\n",
       "    }\n",
       "\n",
       "    .dataframe tbody tr th {\n",
       "        vertical-align: top;\n",
       "    }\n",
       "\n",
       "    .dataframe thead th {\n",
       "        text-align: right;\n",
       "    }\n",
       "</style>\n",
       "<table border=\"1\" class=\"dataframe\">\n",
       "  <thead>\n",
       "    <tr style=\"text-align: right;\">\n",
       "      <th></th>\n",
       "      <th>year</th>\n",
       "      <th>month</th>\n",
       "      <th>day</th>\n",
       "      <th>hour</th>\n",
       "      <th>minute</th>\n",
       "      <th>carrier</th>\n",
       "      <th>flight</th>\n",
       "      <th>origin</th>\n",
       "      <th>dest</th>\n",
       "      <th>tailnum</th>\n",
       "      <th>distance</th>\n",
       "      <th>dep_time</th>\n",
       "      <th>sched_dep_time</th>\n",
       "      <th>dep_delay</th>\n",
       "      <th>arr_time</th>\n",
       "      <th>sched_arr_time</th>\n",
       "      <th>arr_delay</th>\n",
       "      <th>air_time</th>\n",
       "    </tr>\n",
       "  </thead>\n",
       "  <tbody>\n",
       "    <tr>\n",
       "      <th>0</th>\n",
       "      <td>2017</td>\n",
       "      <td>1</td>\n",
       "      <td>1</td>\n",
       "      <td>6</td>\n",
       "      <td>0</td>\n",
       "      <td>B6</td>\n",
       "      <td>371</td>\n",
       "      <td>LGA</td>\n",
       "      <td>FLL</td>\n",
       "      <td>N651JB</td>\n",
       "      <td>1076</td>\n",
       "      <td>615.0</td>\n",
       "      <td>600</td>\n",
       "      <td>15.0</td>\n",
       "      <td>911.0</td>\n",
       "      <td>915</td>\n",
       "      <td>-4.0</td>\n",
       "      <td>151.0</td>\n",
       "    </tr>\n",
       "    <tr>\n",
       "      <th>1</th>\n",
       "      <td>2017</td>\n",
       "      <td>1</td>\n",
       "      <td>1</td>\n",
       "      <td>6</td>\n",
       "      <td>15</td>\n",
       "      <td>AA</td>\n",
       "      <td>1905</td>\n",
       "      <td>LGA</td>\n",
       "      <td>CLT</td>\n",
       "      <td>N561AA</td>\n",
       "      <td>544</td>\n",
       "      <td>1247.0</td>\n",
       "      <td>615</td>\n",
       "      <td>392.0</td>\n",
       "      <td>1450.0</td>\n",
       "      <td>822</td>\n",
       "      <td>388.0</td>\n",
       "      <td>89.0</td>\n",
       "    </tr>\n",
       "    <tr>\n",
       "      <th>2</th>\n",
       "      <td>2017</td>\n",
       "      <td>1</td>\n",
       "      <td>1</td>\n",
       "      <td>6</td>\n",
       "      <td>30</td>\n",
       "      <td>NK</td>\n",
       "      <td>705</td>\n",
       "      <td>LGA</td>\n",
       "      <td>FLL</td>\n",
       "      <td>N667NK</td>\n",
       "      <td>1076</td>\n",
       "      <td>630.0</td>\n",
       "      <td>630</td>\n",
       "      <td>0.0</td>\n",
       "      <td>926.0</td>\n",
       "      <td>932</td>\n",
       "      <td>-6.0</td>\n",
       "      <td>153.0</td>\n",
       "    </tr>\n",
       "    <tr>\n",
       "      <th>3</th>\n",
       "      <td>2017</td>\n",
       "      <td>1</td>\n",
       "      <td>1</td>\n",
       "      <td>6</td>\n",
       "      <td>59</td>\n",
       "      <td>AA</td>\n",
       "      <td>2230</td>\n",
       "      <td>JFK</td>\n",
       "      <td>MIA</td>\n",
       "      <td>NaN</td>\n",
       "      <td>1089</td>\n",
       "      <td>705.0</td>\n",
       "      <td>659</td>\n",
       "      <td>6.0</td>\n",
       "      <td>1020.0</td>\n",
       "      <td>1018</td>\n",
       "      <td>2.0</td>\n",
       "      <td>163.0</td>\n",
       "    </tr>\n",
       "    <tr>\n",
       "      <th>4</th>\n",
       "      <td>2017</td>\n",
       "      <td>1</td>\n",
       "      <td>1</td>\n",
       "      <td>7</td>\n",
       "      <td>30</td>\n",
       "      <td>AA</td>\n",
       "      <td>1263</td>\n",
       "      <td>JFK</td>\n",
       "      <td>LAS</td>\n",
       "      <td>NaN</td>\n",
       "      <td>2248</td>\n",
       "      <td>734.0</td>\n",
       "      <td>730</td>\n",
       "      <td>4.0</td>\n",
       "      <td>1016.0</td>\n",
       "      <td>1029</td>\n",
       "      <td>-13.0</td>\n",
       "      <td>318.0</td>\n",
       "    </tr>\n",
       "    <tr>\n",
       "      <th>...</th>\n",
       "      <td>...</td>\n",
       "      <td>...</td>\n",
       "      <td>...</td>\n",
       "      <td>...</td>\n",
       "      <td>...</td>\n",
       "      <td>...</td>\n",
       "      <td>...</td>\n",
       "      <td>...</td>\n",
       "      <td>...</td>\n",
       "      <td>...</td>\n",
       "      <td>...</td>\n",
       "      <td>...</td>\n",
       "      <td>...</td>\n",
       "      <td>...</td>\n",
       "      <td>...</td>\n",
       "      <td>...</td>\n",
       "      <td>...</td>\n",
       "      <td>...</td>\n",
       "    </tr>\n",
       "    <tr>\n",
       "      <th>15182</th>\n",
       "      <td>2017</td>\n",
       "      <td>12</td>\n",
       "      <td>31</td>\n",
       "      <td>19</td>\n",
       "      <td>25</td>\n",
       "      <td>AA</td>\n",
       "      <td>1120</td>\n",
       "      <td>JFK</td>\n",
       "      <td>MCO</td>\n",
       "      <td>NaN</td>\n",
       "      <td>944</td>\n",
       "      <td>2118.0</td>\n",
       "      <td>1925</td>\n",
       "      <td>113.0</td>\n",
       "      <td>21.0</td>\n",
       "      <td>2234</td>\n",
       "      <td>107.0</td>\n",
       "      <td>157.0</td>\n",
       "    </tr>\n",
       "    <tr>\n",
       "      <th>15183</th>\n",
       "      <td>2017</td>\n",
       "      <td>12</td>\n",
       "      <td>31</td>\n",
       "      <td>21</td>\n",
       "      <td>37</td>\n",
       "      <td>B6</td>\n",
       "      <td>1371</td>\n",
       "      <td>LGA</td>\n",
       "      <td>FLL</td>\n",
       "      <td>N644JB</td>\n",
       "      <td>1076</td>\n",
       "      <td>2136.0</td>\n",
       "      <td>2137</td>\n",
       "      <td>-1.0</td>\n",
       "      <td>36.0</td>\n",
       "      <td>38</td>\n",
       "      <td>-2.0</td>\n",
       "      <td>162.0</td>\n",
       "    </tr>\n",
       "    <tr>\n",
       "      <th>15184</th>\n",
       "      <td>2017</td>\n",
       "      <td>12</td>\n",
       "      <td>31</td>\n",
       "      <td>21</td>\n",
       "      <td>55</td>\n",
       "      <td>B6</td>\n",
       "      <td>1723</td>\n",
       "      <td>JFK</td>\n",
       "      <td>LAX</td>\n",
       "      <td>N988JB</td>\n",
       "      <td>2475</td>\n",
       "      <td>2317.0</td>\n",
       "      <td>2155</td>\n",
       "      <td>82.0</td>\n",
       "      <td>225.0</td>\n",
       "      <td>121</td>\n",
       "      <td>64.0</td>\n",
       "      <td>345.0</td>\n",
       "    </tr>\n",
       "    <tr>\n",
       "      <th>15185</th>\n",
       "      <td>2017</td>\n",
       "      <td>12</td>\n",
       "      <td>31</td>\n",
       "      <td>22</td>\n",
       "      <td>15</td>\n",
       "      <td>B6</td>\n",
       "      <td>1389</td>\n",
       "      <td>EWR</td>\n",
       "      <td>NaN</td>\n",
       "      <td>N521JB</td>\n",
       "      <td>1608</td>\n",
       "      <td>2249.0</td>\n",
       "      <td>2215</td>\n",
       "      <td>34.0</td>\n",
       "      <td>323.0</td>\n",
       "      <td>305</td>\n",
       "      <td>18.0</td>\n",
       "      <td>196.0</td>\n",
       "    </tr>\n",
       "    <tr>\n",
       "      <th>15186</th>\n",
       "      <td>2017</td>\n",
       "      <td>12</td>\n",
       "      <td>31</td>\n",
       "      <td>23</td>\n",
       "      <td>50</td>\n",
       "      <td>B6</td>\n",
       "      <td>745</td>\n",
       "      <td>JFK</td>\n",
       "      <td>NaN</td>\n",
       "      <td>N605JB</td>\n",
       "      <td>1617</td>\n",
       "      <td>9.0</td>\n",
       "      <td>2350</td>\n",
       "      <td>19.0</td>\n",
       "      <td>501.0</td>\n",
       "      <td>441</td>\n",
       "      <td>20.0</td>\n",
       "      <td>209.0</td>\n",
       "    </tr>\n",
       "  </tbody>\n",
       "</table>\n",
       "<p>15187 rows × 18 columns</p>\n",
       "</div>"
      ],
      "text/plain": [
       "       year  month  day  hour  minute carrier  flight origin dest tailnum  \\\n",
       "0      2017      1    1     6       0      B6     371    LGA  FLL  N651JB   \n",
       "1      2017      1    1     6      15      AA    1905    LGA  CLT  N561AA   \n",
       "2      2017      1    1     6      30      NK     705    LGA  FLL  N667NK   \n",
       "3      2017      1    1     6      59      AA    2230    JFK  MIA     NaN   \n",
       "4      2017      1    1     7      30      AA    1263    JFK  LAS     NaN   \n",
       "...     ...    ...  ...   ...     ...     ...     ...    ...  ...     ...   \n",
       "15182  2017     12   31    19      25      AA    1120    JFK  MCO     NaN   \n",
       "15183  2017     12   31    21      37      B6    1371    LGA  FLL  N644JB   \n",
       "15184  2017     12   31    21      55      B6    1723    JFK  LAX  N988JB   \n",
       "15185  2017     12   31    22      15      B6    1389    EWR  NaN  N521JB   \n",
       "15186  2017     12   31    23      50      B6     745    JFK  NaN  N605JB   \n",
       "\n",
       "       distance  dep_time  sched_dep_time  dep_delay  arr_time  \\\n",
       "0          1076     615.0             600       15.0     911.0   \n",
       "1           544    1247.0             615      392.0    1450.0   \n",
       "2          1076     630.0             630        0.0     926.0   \n",
       "3          1089     705.0             659        6.0    1020.0   \n",
       "4          2248     734.0             730        4.0    1016.0   \n",
       "...         ...       ...             ...        ...       ...   \n",
       "15182       944    2118.0            1925      113.0      21.0   \n",
       "15183      1076    2136.0            2137       -1.0      36.0   \n",
       "15184      2475    2317.0            2155       82.0     225.0   \n",
       "15185      1608    2249.0            2215       34.0     323.0   \n",
       "15186      1617       9.0            2350       19.0     501.0   \n",
       "\n",
       "       sched_arr_time  arr_delay  air_time  \n",
       "0                 915       -4.0     151.0  \n",
       "1                 822      388.0      89.0  \n",
       "2                 932       -6.0     153.0  \n",
       "3                1018        2.0     163.0  \n",
       "4                1029      -13.0     318.0  \n",
       "...               ...        ...       ...  \n",
       "15182            2234      107.0     157.0  \n",
       "15183              38       -2.0     162.0  \n",
       "15184             121       64.0     345.0  \n",
       "15185             305       18.0     196.0  \n",
       "15186             441       20.0     209.0  \n",
       "\n",
       "[15187 rows x 18 columns]"
      ]
     },
     "execution_count": 12,
     "metadata": {},
     "output_type": "execute_result"
    }
   ],
   "source": [
    "import pandas as pd\n",
    "\n",
    "flights = pd.read_excel(\"nycflights17.xlsx\", sheet_name = \"flights\")\n",
    "planes = pd.read_excel(\"nycflights17.xlsx\", sheet_name = \"planes\")\n",
    "airlines = pd.read_excel(\"nycflights17.xlsx\", sheet_name = \"airlines\")\n",
    "\n",
    "flights"
   ]
  },
  {
   "cell_type": "code",
   "execution_count": 13,
   "id": "d12b5ce1",
   "metadata": {
    "deletable": false,
    "editable": false,
    "nbgrader": {
     "cell_type": "code",
     "checksum": "8a7b2be5c5e70d3f217135afd1962895",
     "grade": true,
     "grade_id": "ej4-test0",
     "locked": true,
     "points": 0.5,
     "schema_version": 3,
     "solution": false,
     "task": false
    }
   },
   "outputs": [],
   "source": [
    "\"\"\"Se comprobará que las variables existen y tienen el tipo correcto.\"\"\"\n",
    "assert 'flights' in locals(), \"La variable 'flights' no existe.\"\n",
    "assert 'planes' in locals(), \"La variable 'planes' no existe.\"\n",
    "assert 'airlines' in locals(), \"La variable 'airlines' no existe.\"\n",
    "assert type(flights) == pd.DataFrame, \"La variable 'flights' debe ser un dataframe.\"\n",
    "assert type(planes) == pd.DataFrame, \"La variable 'planes' debe ser un dataframe.\"\n",
    "assert type(airlines) == pd.DataFrame, \"La variable 'airlines' debe ser un dataframe.\""
   ]
  },
  {
   "cell_type": "code",
   "execution_count": 14,
   "id": "00e11ffa",
   "metadata": {
    "deletable": false,
    "editable": false,
    "nbgrader": {
     "cell_type": "code",
     "checksum": "82041de5146c33d782fc2fe39437769e",
     "grade": true,
     "grade_id": "ej4-test1",
     "locked": true,
     "points": 0.2,
     "schema_version": 3,
     "solution": false,
     "task": false
    }
   },
   "outputs": [
    {
     "data": {
      "text/plain": [
       "'Se comprobará que la estructura y valores de flights son correctos.'"
      ]
     },
     "execution_count": 14,
     "metadata": {},
     "output_type": "execute_result"
    }
   ],
   "source": [
    "\"\"\"Se comprobará que la estructura y valores de flights son correctos.\"\"\""
   ]
  },
  {
   "cell_type": "code",
   "execution_count": 15,
   "id": "a7b9d086",
   "metadata": {
    "deletable": false,
    "editable": false,
    "nbgrader": {
     "cell_type": "code",
     "checksum": "5606d0fb73e54c4847d8f8071feba29a",
     "grade": true,
     "grade_id": "ej4-test2",
     "locked": true,
     "points": 0.2,
     "schema_version": 3,
     "solution": false,
     "task": false
    }
   },
   "outputs": [
    {
     "data": {
      "text/plain": [
       "'Se comprobará que la estructura y valores de planes son correctos.'"
      ]
     },
     "execution_count": 15,
     "metadata": {},
     "output_type": "execute_result"
    }
   ],
   "source": [
    "\"\"\"Se comprobará que la estructura y valores de planes son correctos.\"\"\""
   ]
  },
  {
   "cell_type": "code",
   "execution_count": 16,
   "id": "18a16236",
   "metadata": {
    "deletable": false,
    "editable": false,
    "nbgrader": {
     "cell_type": "code",
     "checksum": "a378ab8cb844be07da00e1491589c150",
     "grade": true,
     "grade_id": "ej4-test3",
     "locked": true,
     "points": 0.1,
     "schema_version": 3,
     "solution": false,
     "task": false
    }
   },
   "outputs": [
    {
     "data": {
      "text/plain": [
       "'Se comprobará que la estructura y valores de planes son correctos.'"
      ]
     },
     "execution_count": 16,
     "metadata": {},
     "output_type": "execute_result"
    }
   ],
   "source": [
    "\"\"\"Se comprobará que la estructura y valores de planes son correctos.\"\"\""
   ]
  },
  {
   "cell_type": "markdown",
   "id": "7780f137",
   "metadata": {
    "deletable": false,
    "editable": false,
    "nbgrader": {
     "cell_type": "markdown",
     "checksum": "6a2e86755eea7a6c2c20195519b6e524",
     "grade": false,
     "grade_id": "cell-673e0ffe964a4a48",
     "locked": true,
     "schema_version": 3,
     "solution": false,
     "task": false
    }
   },
   "source": [
    "## Ejercicio 5 (1,5 puntos)\n",
    "\n",
    "En este ejercicio debes realizar dos tareas:\n",
    "\n",
    "+ Filtrarás aquellos vuelos que se han realizado en el mes de octubre. El resultado debes almacenarlo en un nuevo _dataframe_ en la variable `flights_oct`.\n",
    "\n",
    "+ Vamos a suponer que los aviones tienen siempre una ocupación del 80%. Así, si un avión tiene 200 asientos, consideraremos que en él viajan 200 * 0,8 = 160 pasajeros. Crea una nueva columna en el _dataframe_ planes llamada `passengers` que almacene la cantidad de pasajeros que viaja en cada avión."
   ]
  },
  {
   "cell_type": "code",
   "execution_count": 17,
   "id": "2835453e",
   "metadata": {
    "deletable": false,
    "nbgrader": {
     "cell_type": "code",
     "checksum": "c2fe0ac078bf4cbd8047ffb72401db47",
     "grade": false,
     "grade_id": "ej5-code",
     "locked": false,
     "schema_version": 3,
     "solution": true,
     "task": false
    }
   },
   "outputs": [
    {
     "data": {
      "text/html": [
       "<div>\n",
       "<style scoped>\n",
       "    .dataframe tbody tr th:only-of-type {\n",
       "        vertical-align: middle;\n",
       "    }\n",
       "\n",
       "    .dataframe tbody tr th {\n",
       "        vertical-align: top;\n",
       "    }\n",
       "\n",
       "    .dataframe thead th {\n",
       "        text-align: right;\n",
       "    }\n",
       "</style>\n",
       "<table border=\"1\" class=\"dataframe\">\n",
       "  <thead>\n",
       "    <tr style=\"text-align: right;\">\n",
       "      <th></th>\n",
       "      <th>year</th>\n",
       "      <th>month</th>\n",
       "      <th>day</th>\n",
       "      <th>hour</th>\n",
       "      <th>minute</th>\n",
       "      <th>carrier</th>\n",
       "      <th>flight</th>\n",
       "      <th>origin</th>\n",
       "      <th>dest</th>\n",
       "      <th>tailnum</th>\n",
       "      <th>distance</th>\n",
       "      <th>dep_time</th>\n",
       "      <th>sched_dep_time</th>\n",
       "      <th>dep_delay</th>\n",
       "      <th>arr_time</th>\n",
       "      <th>sched_arr_time</th>\n",
       "      <th>arr_delay</th>\n",
       "      <th>air_time</th>\n",
       "    </tr>\n",
       "  </thead>\n",
       "  <tbody>\n",
       "    <tr>\n",
       "      <th>4971</th>\n",
       "      <td>2017</td>\n",
       "      <td>5</td>\n",
       "      <td>1</td>\n",
       "      <td>6</td>\n",
       "      <td>0</td>\n",
       "      <td>UA</td>\n",
       "      <td>241</td>\n",
       "      <td>EWR</td>\n",
       "      <td>ATL</td>\n",
       "      <td>N37465</td>\n",
       "      <td>746</td>\n",
       "      <td>554.0</td>\n",
       "      <td>600</td>\n",
       "      <td>-6.0</td>\n",
       "      <td>815.0</td>\n",
       "      <td>830</td>\n",
       "      <td>-15.0</td>\n",
       "      <td>113.0</td>\n",
       "    </tr>\n",
       "    <tr>\n",
       "      <th>4972</th>\n",
       "      <td>2017</td>\n",
       "      <td>5</td>\n",
       "      <td>1</td>\n",
       "      <td>6</td>\n",
       "      <td>0</td>\n",
       "      <td>AA</td>\n",
       "      <td>304</td>\n",
       "      <td>LGA</td>\n",
       "      <td>ORD</td>\n",
       "      <td>NaN</td>\n",
       "      <td>733</td>\n",
       "      <td>601.0</td>\n",
       "      <td>600</td>\n",
       "      <td>1.0</td>\n",
       "      <td>729.0</td>\n",
       "      <td>735</td>\n",
       "      <td>-6.0</td>\n",
       "      <td>113.0</td>\n",
       "    </tr>\n",
       "    <tr>\n",
       "      <th>4973</th>\n",
       "      <td>2017</td>\n",
       "      <td>5</td>\n",
       "      <td>1</td>\n",
       "      <td>6</td>\n",
       "      <td>15</td>\n",
       "      <td>DL</td>\n",
       "      <td>453</td>\n",
       "      <td>JFK</td>\n",
       "      <td>ATL</td>\n",
       "      <td>N399DA</td>\n",
       "      <td>760</td>\n",
       "      <td>611.0</td>\n",
       "      <td>615</td>\n",
       "      <td>-4.0</td>\n",
       "      <td>827.0</td>\n",
       "      <td>844</td>\n",
       "      <td>-17.0</td>\n",
       "      <td>110.0</td>\n",
       "    </tr>\n",
       "    <tr>\n",
       "      <th>4974</th>\n",
       "      <td>2017</td>\n",
       "      <td>5</td>\n",
       "      <td>1</td>\n",
       "      <td>6</td>\n",
       "      <td>55</td>\n",
       "      <td>UA</td>\n",
       "      <td>1115</td>\n",
       "      <td>EWR</td>\n",
       "      <td>LAS</td>\n",
       "      <td>N64844</td>\n",
       "      <td>2227</td>\n",
       "      <td>649.0</td>\n",
       "      <td>655</td>\n",
       "      <td>-6.0</td>\n",
       "      <td>859.0</td>\n",
       "      <td>933</td>\n",
       "      <td>-34.0</td>\n",
       "      <td>288.0</td>\n",
       "    </tr>\n",
       "    <tr>\n",
       "      <th>4975</th>\n",
       "      <td>2017</td>\n",
       "      <td>5</td>\n",
       "      <td>1</td>\n",
       "      <td>7</td>\n",
       "      <td>45</td>\n",
       "      <td>UA</td>\n",
       "      <td>1241</td>\n",
       "      <td>EWR</td>\n",
       "      <td>LAX</td>\n",
       "      <td>N14107</td>\n",
       "      <td>2454</td>\n",
       "      <td>738.0</td>\n",
       "      <td>745</td>\n",
       "      <td>-7.0</td>\n",
       "      <td>1049.0</td>\n",
       "      <td>1055</td>\n",
       "      <td>-6.0</td>\n",
       "      <td>325.0</td>\n",
       "    </tr>\n",
       "    <tr>\n",
       "      <th>...</th>\n",
       "      <td>...</td>\n",
       "      <td>...</td>\n",
       "      <td>...</td>\n",
       "      <td>...</td>\n",
       "      <td>...</td>\n",
       "      <td>...</td>\n",
       "      <td>...</td>\n",
       "      <td>...</td>\n",
       "      <td>...</td>\n",
       "      <td>...</td>\n",
       "      <td>...</td>\n",
       "      <td>...</td>\n",
       "      <td>...</td>\n",
       "      <td>...</td>\n",
       "      <td>...</td>\n",
       "      <td>...</td>\n",
       "      <td>...</td>\n",
       "      <td>...</td>\n",
       "    </tr>\n",
       "    <tr>\n",
       "      <th>6304</th>\n",
       "      <td>2017</td>\n",
       "      <td>5</td>\n",
       "      <td>31</td>\n",
       "      <td>20</td>\n",
       "      <td>55</td>\n",
       "      <td>WN</td>\n",
       "      <td>937</td>\n",
       "      <td>LGA</td>\n",
       "      <td>MDW</td>\n",
       "      <td>N463WN</td>\n",
       "      <td>725</td>\n",
       "      <td>2240.0</td>\n",
       "      <td>2055</td>\n",
       "      <td>105.0</td>\n",
       "      <td>2350.0</td>\n",
       "      <td>2225</td>\n",
       "      <td>85.0</td>\n",
       "      <td>111.0</td>\n",
       "    </tr>\n",
       "    <tr>\n",
       "      <th>6305</th>\n",
       "      <td>2017</td>\n",
       "      <td>5</td>\n",
       "      <td>31</td>\n",
       "      <td>21</td>\n",
       "      <td>5</td>\n",
       "      <td>UA</td>\n",
       "      <td>1261</td>\n",
       "      <td>EWR</td>\n",
       "      <td>IAH</td>\n",
       "      <td>N27733</td>\n",
       "      <td>1400</td>\n",
       "      <td>2117.0</td>\n",
       "      <td>2105</td>\n",
       "      <td>12.0</td>\n",
       "      <td>31.0</td>\n",
       "      <td>2359</td>\n",
       "      <td>32.0</td>\n",
       "      <td>196.0</td>\n",
       "    </tr>\n",
       "    <tr>\n",
       "      <th>6306</th>\n",
       "      <td>2017</td>\n",
       "      <td>5</td>\n",
       "      <td>31</td>\n",
       "      <td>21</td>\n",
       "      <td>18</td>\n",
       "      <td>B6</td>\n",
       "      <td>775</td>\n",
       "      <td>JFK</td>\n",
       "      <td>MSY</td>\n",
       "      <td>NaN</td>\n",
       "      <td>1182</td>\n",
       "      <td>2113.0</td>\n",
       "      <td>2118</td>\n",
       "      <td>-5.0</td>\n",
       "      <td>2345.0</td>\n",
       "      <td>2349</td>\n",
       "      <td>-4.0</td>\n",
       "      <td>168.0</td>\n",
       "    </tr>\n",
       "    <tr>\n",
       "      <th>6307</th>\n",
       "      <td>2017</td>\n",
       "      <td>5</td>\n",
       "      <td>31</td>\n",
       "      <td>21</td>\n",
       "      <td>59</td>\n",
       "      <td>DL</td>\n",
       "      <td>2696</td>\n",
       "      <td>LGA</td>\n",
       "      <td>BOS</td>\n",
       "      <td>N985AT</td>\n",
       "      <td>184</td>\n",
       "      <td>38.0</td>\n",
       "      <td>2159</td>\n",
       "      <td>159.0</td>\n",
       "      <td>200.0</td>\n",
       "      <td>2312</td>\n",
       "      <td>168.0</td>\n",
       "      <td>41.0</td>\n",
       "    </tr>\n",
       "    <tr>\n",
       "      <th>6308</th>\n",
       "      <td>2017</td>\n",
       "      <td>5</td>\n",
       "      <td>31</td>\n",
       "      <td>22</td>\n",
       "      <td>5</td>\n",
       "      <td>EV</td>\n",
       "      <td>5325</td>\n",
       "      <td>LGA</td>\n",
       "      <td>SYR</td>\n",
       "      <td>N724EV</td>\n",
       "      <td>198</td>\n",
       "      <td>2202.0</td>\n",
       "      <td>2205</td>\n",
       "      <td>-3.0</td>\n",
       "      <td>2332.0</td>\n",
       "      <td>2313</td>\n",
       "      <td>19.0</td>\n",
       "      <td>46.0</td>\n",
       "    </tr>\n",
       "  </tbody>\n",
       "</table>\n",
       "<p>1338 rows × 18 columns</p>\n",
       "</div>"
      ],
      "text/plain": [
       "      year  month  day  hour  minute carrier  flight origin dest tailnum  \\\n",
       "4971  2017      5    1     6       0      UA     241    EWR  ATL  N37465   \n",
       "4972  2017      5    1     6       0      AA     304    LGA  ORD     NaN   \n",
       "4973  2017      5    1     6      15      DL     453    JFK  ATL  N399DA   \n",
       "4974  2017      5    1     6      55      UA    1115    EWR  LAS  N64844   \n",
       "4975  2017      5    1     7      45      UA    1241    EWR  LAX  N14107   \n",
       "...    ...    ...  ...   ...     ...     ...     ...    ...  ...     ...   \n",
       "6304  2017      5   31    20      55      WN     937    LGA  MDW  N463WN   \n",
       "6305  2017      5   31    21       5      UA    1261    EWR  IAH  N27733   \n",
       "6306  2017      5   31    21      18      B6     775    JFK  MSY     NaN   \n",
       "6307  2017      5   31    21      59      DL    2696    LGA  BOS  N985AT   \n",
       "6308  2017      5   31    22       5      EV    5325    LGA  SYR  N724EV   \n",
       "\n",
       "      distance  dep_time  sched_dep_time  dep_delay  arr_time  sched_arr_time  \\\n",
       "4971       746     554.0             600       -6.0     815.0             830   \n",
       "4972       733     601.0             600        1.0     729.0             735   \n",
       "4973       760     611.0             615       -4.0     827.0             844   \n",
       "4974      2227     649.0             655       -6.0     859.0             933   \n",
       "4975      2454     738.0             745       -7.0    1049.0            1055   \n",
       "...        ...       ...             ...        ...       ...             ...   \n",
       "6304       725    2240.0            2055      105.0    2350.0            2225   \n",
       "6305      1400    2117.0            2105       12.0      31.0            2359   \n",
       "6306      1182    2113.0            2118       -5.0    2345.0            2349   \n",
       "6307       184      38.0            2159      159.0     200.0            2312   \n",
       "6308       198    2202.0            2205       -3.0    2332.0            2313   \n",
       "\n",
       "      arr_delay  air_time  \n",
       "4971      -15.0     113.0  \n",
       "4972       -6.0     113.0  \n",
       "4973      -17.0     110.0  \n",
       "4974      -34.0     288.0  \n",
       "4975       -6.0     325.0  \n",
       "...         ...       ...  \n",
       "6304       85.0     111.0  \n",
       "6305       32.0     196.0  \n",
       "6306       -4.0     168.0  \n",
       "6307      168.0      41.0  \n",
       "6308       19.0      46.0  \n",
       "\n",
       "[1338 rows x 18 columns]"
      ]
     },
     "execution_count": 17,
     "metadata": {},
     "output_type": "execute_result"
    }
   ],
   "source": [
    "flights\n",
    "\n",
    "flights_oct = flights[flights.month == 5]\n",
    "flights_oct"
   ]
  },
  {
   "cell_type": "code",
   "execution_count": 18,
   "id": "e32d707a",
   "metadata": {},
   "outputs": [
    {
     "data": {
      "text/html": [
       "<div>\n",
       "<style scoped>\n",
       "    .dataframe tbody tr th:only-of-type {\n",
       "        vertical-align: middle;\n",
       "    }\n",
       "\n",
       "    .dataframe tbody tr th {\n",
       "        vertical-align: top;\n",
       "    }\n",
       "\n",
       "    .dataframe thead th {\n",
       "        text-align: right;\n",
       "    }\n",
       "</style>\n",
       "<table border=\"1\" class=\"dataframe\">\n",
       "  <thead>\n",
       "    <tr style=\"text-align: right;\">\n",
       "      <th></th>\n",
       "      <th>tailnum</th>\n",
       "      <th>year</th>\n",
       "      <th>type</th>\n",
       "      <th>manufacturer</th>\n",
       "      <th>model</th>\n",
       "      <th>engines</th>\n",
       "      <th>seats</th>\n",
       "      <th>engine</th>\n",
       "      <th>passengers</th>\n",
       "    </tr>\n",
       "  </thead>\n",
       "  <tbody>\n",
       "    <tr>\n",
       "      <th>0</th>\n",
       "      <td>N102AA</td>\n",
       "      <td>2007.0</td>\n",
       "      <td>Fixed wing single engine</td>\n",
       "      <td>AVIAT AIRCRAFT INC</td>\n",
       "      <td>A-1B</td>\n",
       "      <td>1</td>\n",
       "      <td>2.0</td>\n",
       "      <td>Reciprocating</td>\n",
       "      <td>1.6</td>\n",
       "    </tr>\n",
       "    <tr>\n",
       "      <th>1</th>\n",
       "      <td>N103AA</td>\n",
       "      <td>2007.0</td>\n",
       "      <td>Fixed wing single engine</td>\n",
       "      <td>AVIAT AIRCRAFT INC</td>\n",
       "      <td>A-1B</td>\n",
       "      <td>1</td>\n",
       "      <td>2.0</td>\n",
       "      <td>Reciprocating</td>\n",
       "      <td>1.6</td>\n",
       "    </tr>\n",
       "    <tr>\n",
       "      <th>2</th>\n",
       "      <td>N103SY</td>\n",
       "      <td>2014.0</td>\n",
       "      <td>Fixed wing multi engine</td>\n",
       "      <td>EMBRAER S A</td>\n",
       "      <td>ERJ 170-200 LR</td>\n",
       "      <td>2</td>\n",
       "      <td>88.0</td>\n",
       "      <td>Turbo-fan</td>\n",
       "      <td>70.4</td>\n",
       "    </tr>\n",
       "    <tr>\n",
       "      <th>3</th>\n",
       "      <td>N10575</td>\n",
       "      <td>2002.0</td>\n",
       "      <td>Fixed wing multi engine</td>\n",
       "      <td>EMBRAER</td>\n",
       "      <td>EMB-145LR</td>\n",
       "      <td>2</td>\n",
       "      <td>55.0</td>\n",
       "      <td>Turbo-fan</td>\n",
       "      <td>44.0</td>\n",
       "    </tr>\n",
       "    <tr>\n",
       "      <th>4</th>\n",
       "      <td>N105AA</td>\n",
       "      <td>1978.0</td>\n",
       "      <td>Fixed wing single engine</td>\n",
       "      <td>CESSNA</td>\n",
       "      <td>R182</td>\n",
       "      <td>1</td>\n",
       "      <td>4.0</td>\n",
       "      <td>Reciprocating</td>\n",
       "      <td>3.2</td>\n",
       "    </tr>\n",
       "    <tr>\n",
       "      <th>...</th>\n",
       "      <td>...</td>\n",
       "      <td>...</td>\n",
       "      <td>...</td>\n",
       "      <td>...</td>\n",
       "      <td>...</td>\n",
       "      <td>...</td>\n",
       "      <td>...</td>\n",
       "      <td>...</td>\n",
       "      <td>...</td>\n",
       "    </tr>\n",
       "    <tr>\n",
       "      <th>3516</th>\n",
       "      <td>N997AT</td>\n",
       "      <td>2002.0</td>\n",
       "      <td>Fixed wing multi engine</td>\n",
       "      <td>BOEING</td>\n",
       "      <td>717-200</td>\n",
       "      <td>2</td>\n",
       "      <td>100.0</td>\n",
       "      <td>Turbo-fan</td>\n",
       "      <td>80.0</td>\n",
       "    </tr>\n",
       "    <tr>\n",
       "      <th>3517</th>\n",
       "      <td>N997DL</td>\n",
       "      <td>1992.0</td>\n",
       "      <td>Fixed wing multi engine</td>\n",
       "      <td>MCDONNELL DOUGLAS AIRCRAFT CO</td>\n",
       "      <td>MD-88</td>\n",
       "      <td>2</td>\n",
       "      <td>142.0</td>\n",
       "      <td>Turbo-fan</td>\n",
       "      <td>113.6</td>\n",
       "    </tr>\n",
       "    <tr>\n",
       "      <th>3518</th>\n",
       "      <td>N998AT</td>\n",
       "      <td>2002.0</td>\n",
       "      <td>Fixed wing multi engine</td>\n",
       "      <td>BOEING</td>\n",
       "      <td>717-200</td>\n",
       "      <td>2</td>\n",
       "      <td>100.0</td>\n",
       "      <td>Turbo-fan</td>\n",
       "      <td>80.0</td>\n",
       "    </tr>\n",
       "    <tr>\n",
       "      <th>3519</th>\n",
       "      <td>N998DL</td>\n",
       "      <td>1992.0</td>\n",
       "      <td>Fixed wing multi engine</td>\n",
       "      <td>MCDONNELL DOUGLAS CORPORATION</td>\n",
       "      <td>MD-88</td>\n",
       "      <td>2</td>\n",
       "      <td>142.0</td>\n",
       "      <td>Turbo-jet</td>\n",
       "      <td>113.6</td>\n",
       "    </tr>\n",
       "    <tr>\n",
       "      <th>3520</th>\n",
       "      <td>N999DN</td>\n",
       "      <td>1992.0</td>\n",
       "      <td>Fixed wing multi engine</td>\n",
       "      <td>MCDONNELL DOUGLAS CORPORATION</td>\n",
       "      <td>MD-88</td>\n",
       "      <td>2</td>\n",
       "      <td>142.0</td>\n",
       "      <td>Turbo-jet</td>\n",
       "      <td>113.6</td>\n",
       "    </tr>\n",
       "  </tbody>\n",
       "</table>\n",
       "<p>3521 rows × 9 columns</p>\n",
       "</div>"
      ],
      "text/plain": [
       "     tailnum    year                      type                   manufacturer  \\\n",
       "0     N102AA  2007.0  Fixed wing single engine             AVIAT AIRCRAFT INC   \n",
       "1     N103AA  2007.0  Fixed wing single engine             AVIAT AIRCRAFT INC   \n",
       "2     N103SY  2014.0   Fixed wing multi engine                    EMBRAER S A   \n",
       "3     N10575  2002.0   Fixed wing multi engine                        EMBRAER   \n",
       "4     N105AA  1978.0  Fixed wing single engine                         CESSNA   \n",
       "...      ...     ...                       ...                            ...   \n",
       "3516  N997AT  2002.0   Fixed wing multi engine                         BOEING   \n",
       "3517  N997DL  1992.0   Fixed wing multi engine  MCDONNELL DOUGLAS AIRCRAFT CO   \n",
       "3518  N998AT  2002.0   Fixed wing multi engine                         BOEING   \n",
       "3519  N998DL  1992.0   Fixed wing multi engine  MCDONNELL DOUGLAS CORPORATION   \n",
       "3520  N999DN  1992.0   Fixed wing multi engine  MCDONNELL DOUGLAS CORPORATION   \n",
       "\n",
       "               model  engines  seats         engine  passengers  \n",
       "0               A-1B        1    2.0  Reciprocating         1.6  \n",
       "1               A-1B        1    2.0  Reciprocating         1.6  \n",
       "2     ERJ 170-200 LR        2   88.0      Turbo-fan        70.4  \n",
       "3          EMB-145LR        2   55.0      Turbo-fan        44.0  \n",
       "4               R182        1    4.0  Reciprocating         3.2  \n",
       "...              ...      ...    ...            ...         ...  \n",
       "3516         717-200        2  100.0      Turbo-fan        80.0  \n",
       "3517           MD-88        2  142.0      Turbo-fan       113.6  \n",
       "3518         717-200        2  100.0      Turbo-fan        80.0  \n",
       "3519           MD-88        2  142.0      Turbo-jet       113.6  \n",
       "3520           MD-88        2  142.0      Turbo-jet       113.6  \n",
       "\n",
       "[3521 rows x 9 columns]"
      ]
     },
     "execution_count": 18,
     "metadata": {},
     "output_type": "execute_result"
    }
   ],
   "source": [
    "# suponiendo que los aviones tienen una ocupación del 80%, si un avión tiene 200 asientos, en él, únicamente podrán \n",
    "# viajar 160 pasajeros. Crear una columna \"passengers\" que almacene la cantidad de pasajeros que viaja en cada avión.\n",
    "\n",
    "planes[\"passengers\"] = planes.seats*0.8\n",
    "planes\n",
    "\n",
    "# obtengo números decimales. ¿Me quedo con parte entera?"
   ]
  },
  {
   "cell_type": "code",
   "execution_count": 19,
   "id": "8e08c0f7",
   "metadata": {
    "deletable": false,
    "editable": false,
    "nbgrader": {
     "cell_type": "code",
     "checksum": "7487e89c9de172fb797ce84fafe4ce40",
     "grade": true,
     "grade_id": "ej5-test0",
     "locked": true,
     "points": 0.5,
     "schema_version": 3,
     "solution": false,
     "task": false
    }
   },
   "outputs": [],
   "source": [
    "\"\"\"Se comprobará que las variables existen y tienen el tipo correcto.\"\"\"\n",
    "assert 'flights_oct' in locals(), \"La variable 'flights_oct' no existe.\"\n",
    "assert type(flights_oct) == pd.DataFrame, \"La variable 'flights_oct' debe ser un dataframe.\"\n",
    "assert len(planes.columns) == 9, \"No hay una nueva columna en el dataframe 'planes'.\""
   ]
  },
  {
   "cell_type": "code",
   "execution_count": 20,
   "id": "62363a7f",
   "metadata": {
    "deletable": false,
    "editable": false,
    "nbgrader": {
     "cell_type": "code",
     "checksum": "2671c81e4800762fde20b21da789619a",
     "grade": true,
     "grade_id": "ej5-test1",
     "locked": true,
     "points": 0.5,
     "schema_version": 3,
     "solution": false,
     "task": false
    }
   },
   "outputs": [
    {
     "data": {
      "text/plain": [
       "'Se comprobará que el filtrado es correcto.'"
      ]
     },
     "execution_count": 20,
     "metadata": {},
     "output_type": "execute_result"
    }
   ],
   "source": [
    "\"\"\"Se comprobará que el filtrado es correcto.\"\"\""
   ]
  },
  {
   "cell_type": "code",
   "execution_count": 21,
   "id": "b53300a1",
   "metadata": {
    "deletable": false,
    "editable": false,
    "nbgrader": {
     "cell_type": "code",
     "checksum": "92f2439f8482488bdc430a55ed4fa607",
     "grade": true,
     "grade_id": "ej5-test2",
     "locked": true,
     "points": 0.5,
     "schema_version": 3,
     "solution": false,
     "task": false
    }
   },
   "outputs": [
    {
     "data": {
      "text/plain": [
       "'Se comprobará que la nueva columna es correcta.'"
      ]
     },
     "execution_count": 21,
     "metadata": {},
     "output_type": "execute_result"
    }
   ],
   "source": [
    "\"\"\"Se comprobará que la nueva columna es correcta.\"\"\""
   ]
  },
  {
   "cell_type": "markdown",
   "id": "ebd3e748",
   "metadata": {},
   "source": [
    "## Ejercicio 6 (2,5 puntos)\n",
    "\n",
    "En este último ejercicio, vas a actuar en el papel de un comercial de la empresa BOEING. Supongamos que quieres premiar la fidelidad de aquella aerolínea que a más pasajeros ha trasladado empleando aviones de tu marca durante el mes de octubre. ¿Cuál es esta aerolínea?\n",
    "\n",
    "Para hallarlo, debes hacer lo siguiente:\n",
    "\n",
    "+ Filtrar aquellos aviones que son fabricados por BOEING. Almacena el resultado en el _dataframe_ `planes_boeing`.\n",
    "+ Combinar los vuelos del mes de octubre con los aviones de BOEING y con las aerolíneas. El resultado de agregar los tres _dataframes_ se debe almacenar en la variable `flights_oct_boeing`.\n",
    "+ Agrupar los vuelos por el nombre de aerolínea, y sumar los pasajeros para cada aerolínea.\n",
    "+ El nombre de la aerolína que más pasajeros ha trasladado en octubre en aviones BOEING debe almacenarse en la variable `aerolinea`, mientras que el número de pasajeros debe almacenarse en la variable `num_pasajeros`."
   ]
  },
  {
   "cell_type": "code",
   "execution_count": 22,
   "id": "05f5a315",
   "metadata": {
    "deletable": false,
    "nbgrader": {
     "cell_type": "code",
     "checksum": "a4dce5cbe39bfef0bbfac5dc77a54054",
     "grade": false,
     "grade_id": "ej6-code",
     "locked": false,
     "schema_version": 3,
     "solution": true,
     "task": false
    }
   },
   "outputs": [],
   "source": [
    "planes_boeing = planes[planes.manufacturer == \"BOEING\"]\n",
    "planes_boeing\n",
    "\n",
    "\n",
    "flights_oct_boeing = flights_oct.merge(planes_boeing, on = [\"tailnum\"]).merge(airlines, on = [\"carrier\"])\n",
    "flights_oct_boeing \n",
    "\n",
    "flights_oct_boeing.groupby(\"name\").passengers.sum()\n",
    "\n",
    "num_pasajeros = max(flights_oct_boeing.groupby(\"name\").passengers.sum())\n",
    "\n",
    "dic = dict(flights_oct_boeing.groupby(\"name\").passengers.sum())\n",
    "\n",
    "\n",
    "def encontrar_aerolinea(dic=dic):\n",
    "    for aerol in dic:\n",
    "        maximo = 0\n",
    "        if dic[aerol] > maximo:\n",
    "            maximo = dic[aerol]\n",
    "            aerolinea=aerol\n",
    "    return aerolinea\n",
    "\n",
    "aerolinea = encontrar_aerolinea()\n"
   ]
  },
  {
   "cell_type": "code",
   "execution_count": 23,
   "id": "9e4fed0c",
   "metadata": {
    "deletable": false,
    "editable": false,
    "nbgrader": {
     "cell_type": "code",
     "checksum": "91cc2fd05bbe10679130680dcaaf68a4",
     "grade": true,
     "grade_id": "ej6-test0",
     "locked": true,
     "points": 0.5,
     "schema_version": 3,
     "solution": false,
     "task": false
    }
   },
   "outputs": [],
   "source": [
    "\"\"\"Se comprobará que las variables existen y tienen el tipo correcto.\"\"\"\n",
    "assert 'planes_boeing' in locals(), \"La variable 'planes_boeing' no existe.\"\n",
    "assert 'flights_oct_boeing' in locals(), \"La variable 'flights_oct_boeing' no existe.\"\n",
    "assert 'aerolinea' in locals(), \"La variable 'aerolinea' no existe.\"\n",
    "assert 'num_pasajeros' in locals(), \"La variable 'num_pasajeros' no existe.\"\n",
    "assert type(planes_boeing) == pd.DataFrame, \"La variable 'planes_boeing' debe ser un dataframe.\"\n",
    "assert type(flights_oct_boeing) == pd.DataFrame, \"La variable 'flights_oct_boeing' debe ser un dataframe.\"\n",
    "assert type(aerolinea) == str, \"La variable 'aerolinea' debe ser una string.\"\n",
    "assert type(num_pasajeros) == float, \"La variable 'num_pasajeros' debe ser un float.\""
   ]
  },
  {
   "cell_type": "code",
   "execution_count": 24,
   "id": "1ca78d6a",
   "metadata": {
    "deletable": false,
    "editable": false,
    "nbgrader": {
     "cell_type": "code",
     "checksum": "4011f6bdad3a6260f4a34a322423992f",
     "grade": true,
     "grade_id": "ej6-test1",
     "locked": true,
     "points": 0.5,
     "schema_version": 3,
     "solution": false,
     "task": false
    }
   },
   "outputs": [
    {
     "data": {
      "text/plain": [
       "'Se comprobará que el filtrado es correcto.'"
      ]
     },
     "execution_count": 24,
     "metadata": {},
     "output_type": "execute_result"
    }
   ],
   "source": [
    "\"\"\"Se comprobará que el filtrado es correcto.\"\"\""
   ]
  },
  {
   "cell_type": "code",
   "execution_count": 25,
   "id": "b8a9652a",
   "metadata": {
    "deletable": false,
    "editable": false,
    "nbgrader": {
     "cell_type": "code",
     "checksum": "35c1a00f2561b5ea226aa07ce8953cd5",
     "grade": true,
     "grade_id": "ej6-test2",
     "locked": true,
     "points": 0.75,
     "schema_version": 3,
     "solution": false,
     "task": false
    }
   },
   "outputs": [
    {
     "data": {
      "text/plain": [
       "'Se comprobará que la unión de los datos es correcta.'"
      ]
     },
     "execution_count": 25,
     "metadata": {},
     "output_type": "execute_result"
    }
   ],
   "source": [
    "\"\"\"Se comprobará que la unión de los datos es correcta.\"\"\""
   ]
  },
  {
   "cell_type": "code",
   "execution_count": 26,
   "id": "9df6f895",
   "metadata": {
    "deletable": false,
    "editable": false,
    "nbgrader": {
     "cell_type": "code",
     "checksum": "b97c7842f56cf1db40dce4fde005e2be",
     "grade": true,
     "grade_id": "ej6-test3",
     "locked": true,
     "points": 0.75,
     "schema_version": 3,
     "solution": false,
     "task": false
    }
   },
   "outputs": [
    {
     "data": {
      "text/plain": [
       "'Se comprobará que el resultado del análisis es correcto.'"
      ]
     },
     "execution_count": 26,
     "metadata": {},
     "output_type": "execute_result"
    }
   ],
   "source": [
    "\"\"\"Se comprobará que el resultado del análisis es correcto.\"\"\""
   ]
  },
  {
   "cell_type": "markdown",
   "id": "fe095e66",
   "metadata": {
    "deletable": false,
    "editable": false,
    "nbgrader": {
     "cell_type": "markdown",
     "checksum": "d9fd585fbcaa2c8c1a8bbc79fa051766",
     "grade": false,
     "grade_id": "cell-a172acfc9ad679f8",
     "locked": true,
     "schema_version": 3,
     "solution": false,
     "task": false
    }
   },
   "source": [
    "## Y ahora, ¿qué?\n",
    "\n",
    "Si ya has terminado los ejercicios, sigue los siguientes pasos:\n",
    "\n",
    "1. Haz clic en _Kernel -> Restart & Run All_. Esto permitirá limpiar la memoria y ejecutar el código con el entorno limpio. Así, aseguramos que no pueda haber «código fantasma» que pueda dar problemas.\n",
    "2. Haz clic en el botón _Validate_. Si el proceso indica que hay algún error, quiere decir que tu código tiene problemas y deberías revisarlo. __¡Ojo!__ Esto no quiere decir que si el mensaje indica que el código pasa todos los tests, entonces esté perfecto. El motivo es que hay tests que solo se ejecutan después de enviar el cuaderno.\n",
    "3. Pulsa las teclas _Ctrl_ + _S_ (o _Command_ + _S_ en Mac OS) para guardar los cambios.\n",
    "4. Haz clic en _File -> Close and Halt_ para cerrar el cuaderno.\n",
    "5. En el servidor de prácticas, ve a la pestaña _Assignments_ y, junto a esta tarea, haz clic en el botón _Submit_."
   ]
  }
 ],
 "metadata": {
  "kernelspec": {
   "display_name": "Python 3 (ipykernel)",
   "language": "python",
   "name": "python3"
  },
  "language_info": {
   "codemirror_mode": {
    "name": "ipython",
    "version": 3
   },
   "file_extension": ".py",
   "mimetype": "text/x-python",
   "name": "python",
   "nbconvert_exporter": "python",
   "pygments_lexer": "ipython3",
   "version": "3.8.10"
  }
 },
 "nbformat": 4,
 "nbformat_minor": 5
}
